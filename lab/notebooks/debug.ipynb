{
 "cells": [
  {
   "cell_type": "code",
   "execution_count": 10,
   "metadata": {},
   "outputs": [],
   "source": [
    "import os\n",
    "import pathlib\n",
    "\n",
    "import duckdb\n",
    "import pandas as pd\n",
    "from sqlalchemy import create_engine"
   ]
  },
  {
   "cell_type": "code",
   "execution_count": 11,
   "metadata": {},
   "outputs": [
    {
     "name": "stdout",
     "output_type": "stream",
     "text": [
      "The sql extension is already loaded. To reload it, use:\n",
      "  %reload_ext sql\n"
     ]
    }
   ],
   "source": [
    "%load_ext sql"
   ]
  },
  {
   "cell_type": "code",
   "execution_count": 12,
   "metadata": {},
   "outputs": [],
   "source": [
    "stg_path = pathlib.Path(os.getenv('DUCKDB_DATA'), 'stg.duckdb').as_posix()\n",
    "stg_conn = duckdb.connect(stg_path, read_only=True)"
   ]
  },
  {
   "cell_type": "code",
   "execution_count": 13,
   "metadata": {},
   "outputs": [],
   "source": [
    "%sql stg_conn"
   ]
  },
  {
   "cell_type": "code",
   "execution_count": 14,
   "metadata": {},
   "outputs": [
    {
     "data": {
      "text/html": [
       "<span style=\"None\">Running query in &#x27;DuckDBPyConnection&#x27;</span>"
      ],
      "text/plain": [
       "Running query in 'DuckDBPyConnection'"
      ]
     },
     "metadata": {},
     "output_type": "display_data"
    },
    {
     "data": {
      "text/html": [
       "<table>\n",
       "    <thead>\n",
       "        <tr>\n",
       "            <th>name</th>\n",
       "        </tr>\n",
       "    </thead>\n",
       "    <tbody>\n",
       "        <tr>\n",
       "            <td>stg_bill_of_materials</td>\n",
       "        </tr>\n",
       "        <tr>\n",
       "            <td>stg_currency</td>\n",
       "        </tr>\n",
       "        <tr>\n",
       "            <td>stg_currency_rate</td>\n",
       "        </tr>\n",
       "        <tr>\n",
       "            <td>stg_customer</td>\n",
       "        </tr>\n",
       "        <tr>\n",
       "            <td>stg_employee</td>\n",
       "        </tr>\n",
       "        <tr>\n",
       "            <td>stg_person</td>\n",
       "        </tr>\n",
       "        <tr>\n",
       "            <td>stg_product</td>\n",
       "        </tr>\n",
       "        <tr>\n",
       "            <td>stg_sales_order_detail</td>\n",
       "        </tr>\n",
       "        <tr>\n",
       "            <td>stg_sales_order_header</td>\n",
       "        </tr>\n",
       "        <tr>\n",
       "            <td>stg_sales_person</td>\n",
       "        </tr>\n",
       "    </tbody>\n",
       "</table>\n",
       "<span style=\"font-style:italic;text-align:center;\">Truncated to <a href=\"https://jupysql.ploomber.io/en/latest/api/configuration.html#displaylimit\">displaylimit</a> of 10.</span>"
      ],
      "text/plain": [
       "+------------------------+\n",
       "|          name          |\n",
       "+------------------------+\n",
       "| stg_bill_of_materials  |\n",
       "|      stg_currency      |\n",
       "|   stg_currency_rate    |\n",
       "|      stg_customer      |\n",
       "|      stg_employee      |\n",
       "|       stg_person       |\n",
       "|      stg_product       |\n",
       "| stg_sales_order_detail |\n",
       "| stg_sales_order_header |\n",
       "|    stg_sales_person    |\n",
       "+------------------------+\n",
       "Truncated to displaylimit of 10."
      ]
     },
     "execution_count": 14,
     "metadata": {},
     "output_type": "execute_result"
    }
   ],
   "source": [
    "%sql show tables"
   ]
  },
  {
   "cell_type": "code",
   "execution_count": 15,
   "metadata": {},
   "outputs": [
    {
     "data": {
      "text/html": [
       "<span style=\"None\">Running query in &#x27;DuckDBPyConnection&#x27;</span>"
      ],
      "text/plain": [
       "Running query in 'DuckDBPyConnection'"
      ]
     },
     "metadata": {},
     "output_type": "display_data"
    },
    {
     "data": {
      "text/html": [
       "<table>\n",
       "    <thead>\n",
       "        <tr>\n",
       "            <th>id_business_entity</th>\n",
       "            <th>person_type</th>\n",
       "            <th>name_style</th>\n",
       "            <th>title</th>\n",
       "            <th>first_name</th>\n",
       "            <th>middle_name</th>\n",
       "            <th>last_name</th>\n",
       "            <th>suffix</th>\n",
       "            <th>email_promotion</th>\n",
       "            <th>additional_contact_info</th>\n",
       "            <th>demographics</th>\n",
       "            <th>rowguid</th>\n",
       "            <th>modified_date</th>\n",
       "        </tr>\n",
       "    </thead>\n",
       "    <tbody>\n",
       "        <tr>\n",
       "            <td>1</td>\n",
       "            <td>EM</td>\n",
       "            <td>False</td>\n",
       "            <td>None</td>\n",
       "            <td>Ken</td>\n",
       "            <td>J</td>\n",
       "            <td>Sánchez</td>\n",
       "            <td>None</td>\n",
       "            <td>0</td>\n",
       "            <td>None</td>\n",
       "            <td>﻿<IndividualSurvey xmlns=\"http://schemas.microsoft.com/sqlserver/2004/07/adventure-works/IndividualSurvey\"><TotalPurchaseYTD>0</TotalPurchaseYTD></IndividualSurvey></td>\n",
       "            <td>92C4279F-1207-48A3-8448-4636514EB7E2</td>\n",
       "            <td>2009-01-07 00:00:00</td>\n",
       "        </tr>\n",
       "        <tr>\n",
       "            <td>2</td>\n",
       "            <td>EM</td>\n",
       "            <td>False</td>\n",
       "            <td>None</td>\n",
       "            <td>Terri</td>\n",
       "            <td>Lee</td>\n",
       "            <td>Duffy</td>\n",
       "            <td>None</td>\n",
       "            <td>1</td>\n",
       "            <td>None</td>\n",
       "            <td>﻿<IndividualSurvey xmlns=\"http://schemas.microsoft.com/sqlserver/2004/07/adventure-works/IndividualSurvey\"><TotalPurchaseYTD>0</TotalPurchaseYTD></IndividualSurvey></td>\n",
       "            <td>D8763459-8AA8-47CC-AFF7-C9079AF79033</td>\n",
       "            <td>2008-01-24 00:00:00</td>\n",
       "        </tr>\n",
       "        <tr>\n",
       "            <td>3</td>\n",
       "            <td>EM</td>\n",
       "            <td>False</td>\n",
       "            <td>None</td>\n",
       "            <td>Roberto</td>\n",
       "            <td>None</td>\n",
       "            <td>Tamburello</td>\n",
       "            <td>None</td>\n",
       "            <td>0</td>\n",
       "            <td>None</td>\n",
       "            <td>﻿<IndividualSurvey xmlns=\"http://schemas.microsoft.com/sqlserver/2004/07/adventure-works/IndividualSurvey\"><TotalPurchaseYTD>0</TotalPurchaseYTD></IndividualSurvey></td>\n",
       "            <td>E1A2555E-0828-434B-A33B-6F38136A37DE</td>\n",
       "            <td>2007-11-04 00:00:00</td>\n",
       "        </tr>\n",
       "        <tr>\n",
       "            <td>4</td>\n",
       "            <td>EM</td>\n",
       "            <td>False</td>\n",
       "            <td>None</td>\n",
       "            <td>Rob</td>\n",
       "            <td>None</td>\n",
       "            <td>Walters</td>\n",
       "            <td>None</td>\n",
       "            <td>0</td>\n",
       "            <td>None</td>\n",
       "            <td>﻿<IndividualSurvey xmlns=\"http://schemas.microsoft.com/sqlserver/2004/07/adventure-works/IndividualSurvey\"><TotalPurchaseYTD>0</TotalPurchaseYTD></IndividualSurvey></td>\n",
       "            <td>F2D7CE06-38B3-4357-805B-F4B6B71C01FF</td>\n",
       "            <td>2007-11-28 00:00:00</td>\n",
       "        </tr>\n",
       "        <tr>\n",
       "            <td>5</td>\n",
       "            <td>EM</td>\n",
       "            <td>False</td>\n",
       "            <td>Ms.</td>\n",
       "            <td>Gail</td>\n",
       "            <td>A</td>\n",
       "            <td>Erickson</td>\n",
       "            <td>None</td>\n",
       "            <td>0</td>\n",
       "            <td>None</td>\n",
       "            <td>﻿<IndividualSurvey xmlns=\"http://schemas.microsoft.com/sqlserver/2004/07/adventure-works/IndividualSurvey\"><TotalPurchaseYTD>0</TotalPurchaseYTD></IndividualSurvey></td>\n",
       "            <td>F3A3F6B4-AE3B-430C-A754-9F2231BA6FEF</td>\n",
       "            <td>2007-12-30 00:00:00</td>\n",
       "        </tr>\n",
       "        <tr>\n",
       "            <td>6</td>\n",
       "            <td>EM</td>\n",
       "            <td>False</td>\n",
       "            <td>Mr.</td>\n",
       "            <td>Jossef</td>\n",
       "            <td>H</td>\n",
       "            <td>Goldberg</td>\n",
       "            <td>None</td>\n",
       "            <td>0</td>\n",
       "            <td>None</td>\n",
       "            <td>﻿<IndividualSurvey xmlns=\"http://schemas.microsoft.com/sqlserver/2004/07/adventure-works/IndividualSurvey\"><TotalPurchaseYTD>0</TotalPurchaseYTD></IndividualSurvey></td>\n",
       "            <td>0DEA28FD-EFFE-482A-AFD3-B7E8F199D56F</td>\n",
       "            <td>2013-12-16 00:00:00</td>\n",
       "        </tr>\n",
       "        <tr>\n",
       "            <td>7</td>\n",
       "            <td>EM</td>\n",
       "            <td>False</td>\n",
       "            <td>None</td>\n",
       "            <td>Dylan</td>\n",
       "            <td>A</td>\n",
       "            <td>Miller</td>\n",
       "            <td>None</td>\n",
       "            <td>2</td>\n",
       "            <td>None</td>\n",
       "            <td>﻿<IndividualSurvey xmlns=\"http://schemas.microsoft.com/sqlserver/2004/07/adventure-works/IndividualSurvey\"><TotalPurchaseYTD>0</TotalPurchaseYTD></IndividualSurvey></td>\n",
       "            <td>C45E8AB8-01BE-4B76-B215-820C8368181A</td>\n",
       "            <td>2009-02-01 00:00:00</td>\n",
       "        </tr>\n",
       "        <tr>\n",
       "            <td>8</td>\n",
       "            <td>EM</td>\n",
       "            <td>False</td>\n",
       "            <td>None</td>\n",
       "            <td>Diane</td>\n",
       "            <td>L</td>\n",
       "            <td>Margheim</td>\n",
       "            <td>None</td>\n",
       "            <td>0</td>\n",
       "            <td>None</td>\n",
       "            <td>﻿<IndividualSurvey xmlns=\"http://schemas.microsoft.com/sqlserver/2004/07/adventure-works/IndividualSurvey\"><TotalPurchaseYTD>0</TotalPurchaseYTD></IndividualSurvey></td>\n",
       "            <td>A948E590-4A56-45A9-BC9A-160A1CC9D990</td>\n",
       "            <td>2008-12-22 00:00:00</td>\n",
       "        </tr>\n",
       "        <tr>\n",
       "            <td>9</td>\n",
       "            <td>EM</td>\n",
       "            <td>False</td>\n",
       "            <td>None</td>\n",
       "            <td>Gigi</td>\n",
       "            <td>N</td>\n",
       "            <td>Matthew</td>\n",
       "            <td>None</td>\n",
       "            <td>0</td>\n",
       "            <td>None</td>\n",
       "            <td>﻿<IndividualSurvey xmlns=\"http://schemas.microsoft.com/sqlserver/2004/07/adventure-works/IndividualSurvey\"><TotalPurchaseYTD>0</TotalPurchaseYTD></IndividualSurvey></td>\n",
       "            <td>5FC28C0E-6D36-4252-9846-05CAA0B1F6C5</td>\n",
       "            <td>2009-01-09 00:00:00</td>\n",
       "        </tr>\n",
       "        <tr>\n",
       "            <td>10</td>\n",
       "            <td>EM</td>\n",
       "            <td>False</td>\n",
       "            <td>None</td>\n",
       "            <td>Michael</td>\n",
       "            <td>None</td>\n",
       "            <td>Raheem</td>\n",
       "            <td>None</td>\n",
       "            <td>2</td>\n",
       "            <td>None</td>\n",
       "            <td>﻿<IndividualSurvey xmlns=\"http://schemas.microsoft.com/sqlserver/2004/07/adventure-works/IndividualSurvey\"><TotalPurchaseYTD>0</TotalPurchaseYTD></IndividualSurvey></td>\n",
       "            <td>CA2C740E-75B2-420C-9D4B-E3CBC6609604</td>\n",
       "            <td>2009-04-26 00:00:00</td>\n",
       "        </tr>\n",
       "    </tbody>\n",
       "</table>\n",
       "<span style=\"font-style:italic;text-align:center;\">Truncated to <a href=\"https://jupysql.ploomber.io/en/latest/api/configuration.html#displaylimit\">displaylimit</a> of 10.</span>"
      ],
      "text/plain": [
       "+--------------------+-------------+------------+-------+------------+-------------+------------+--------+-----------------+-------------------------+----------------------------------------------------------------------------------------------------------------------------------------------------------------------+--------------------------------------+---------------------+\n",
       "| id_business_entity | person_type | name_style | title | first_name | middle_name | last_name  | suffix | email_promotion | additional_contact_info |                                                                             demographics                                                                             |               rowguid                |    modified_date    |\n",
       "+--------------------+-------------+------------+-------+------------+-------------+------------+--------+-----------------+-------------------------+----------------------------------------------------------------------------------------------------------------------------------------------------------------------+--------------------------------------+---------------------+\n",
       "|         1          |      EM     |   False    |  None |    Ken     |      J      |  Sánchez   |  None  |        0        |           None          | ﻿<IndividualSurvey xmlns=\"http://schemas.microsoft.com/sqlserver/2004/07/adventure-works/IndividualSurvey\"><TotalPurchaseYTD>0</TotalPurchaseYTD></IndividualSurvey> | 92C4279F-1207-48A3-8448-4636514EB7E2 | 2009-01-07 00:00:00 |\n",
       "|         2          |      EM     |   False    |  None |   Terri    |     Lee     |   Duffy    |  None  |        1        |           None          | ﻿<IndividualSurvey xmlns=\"http://schemas.microsoft.com/sqlserver/2004/07/adventure-works/IndividualSurvey\"><TotalPurchaseYTD>0</TotalPurchaseYTD></IndividualSurvey> | D8763459-8AA8-47CC-AFF7-C9079AF79033 | 2008-01-24 00:00:00 |\n",
       "|         3          |      EM     |   False    |  None |  Roberto   |     None    | Tamburello |  None  |        0        |           None          | ﻿<IndividualSurvey xmlns=\"http://schemas.microsoft.com/sqlserver/2004/07/adventure-works/IndividualSurvey\"><TotalPurchaseYTD>0</TotalPurchaseYTD></IndividualSurvey> | E1A2555E-0828-434B-A33B-6F38136A37DE | 2007-11-04 00:00:00 |\n",
       "|         4          |      EM     |   False    |  None |    Rob     |     None    |  Walters   |  None  |        0        |           None          | ﻿<IndividualSurvey xmlns=\"http://schemas.microsoft.com/sqlserver/2004/07/adventure-works/IndividualSurvey\"><TotalPurchaseYTD>0</TotalPurchaseYTD></IndividualSurvey> | F2D7CE06-38B3-4357-805B-F4B6B71C01FF | 2007-11-28 00:00:00 |\n",
       "|         5          |      EM     |   False    |  Ms.  |    Gail    |      A      |  Erickson  |  None  |        0        |           None          | ﻿<IndividualSurvey xmlns=\"http://schemas.microsoft.com/sqlserver/2004/07/adventure-works/IndividualSurvey\"><TotalPurchaseYTD>0</TotalPurchaseYTD></IndividualSurvey> | F3A3F6B4-AE3B-430C-A754-9F2231BA6FEF | 2007-12-30 00:00:00 |\n",
       "|         6          |      EM     |   False    |  Mr.  |   Jossef   |      H      |  Goldberg  |  None  |        0        |           None          | ﻿<IndividualSurvey xmlns=\"http://schemas.microsoft.com/sqlserver/2004/07/adventure-works/IndividualSurvey\"><TotalPurchaseYTD>0</TotalPurchaseYTD></IndividualSurvey> | 0DEA28FD-EFFE-482A-AFD3-B7E8F199D56F | 2013-12-16 00:00:00 |\n",
       "|         7          |      EM     |   False    |  None |   Dylan    |      A      |   Miller   |  None  |        2        |           None          | ﻿<IndividualSurvey xmlns=\"http://schemas.microsoft.com/sqlserver/2004/07/adventure-works/IndividualSurvey\"><TotalPurchaseYTD>0</TotalPurchaseYTD></IndividualSurvey> | C45E8AB8-01BE-4B76-B215-820C8368181A | 2009-02-01 00:00:00 |\n",
       "|         8          |      EM     |   False    |  None |   Diane    |      L      |  Margheim  |  None  |        0        |           None          | ﻿<IndividualSurvey xmlns=\"http://schemas.microsoft.com/sqlserver/2004/07/adventure-works/IndividualSurvey\"><TotalPurchaseYTD>0</TotalPurchaseYTD></IndividualSurvey> | A948E590-4A56-45A9-BC9A-160A1CC9D990 | 2008-12-22 00:00:00 |\n",
       "|         9          |      EM     |   False    |  None |    Gigi    |      N      |  Matthew   |  None  |        0        |           None          | ﻿<IndividualSurvey xmlns=\"http://schemas.microsoft.com/sqlserver/2004/07/adventure-works/IndividualSurvey\"><TotalPurchaseYTD>0</TotalPurchaseYTD></IndividualSurvey> | 5FC28C0E-6D36-4252-9846-05CAA0B1F6C5 | 2009-01-09 00:00:00 |\n",
       "|         10         |      EM     |   False    |  None |  Michael   |     None    |   Raheem   |  None  |        2        |           None          | ﻿<IndividualSurvey xmlns=\"http://schemas.microsoft.com/sqlserver/2004/07/adventure-works/IndividualSurvey\"><TotalPurchaseYTD>0</TotalPurchaseYTD></IndividualSurvey> | CA2C740E-75B2-420C-9D4B-E3CBC6609604 | 2009-04-26 00:00:00 |\n",
       "+--------------------+-------------+------------+-------+------------+-------------+------------+--------+-----------------+-------------------------+----------------------------------------------------------------------------------------------------------------------------------------------------------------------+--------------------------------------+---------------------+\n",
       "Truncated to displaylimit of 10."
      ]
     },
     "execution_count": 15,
     "metadata": {},
     "output_type": "execute_result"
    }
   ],
   "source": [
    "%%sql\n",
    "select * from stg_person"
   ]
  },
  {
   "cell_type": "code",
   "execution_count": 9,
   "metadata": {},
   "outputs": [
    {
     "data": {
      "text/html": [
       "<span style=\"None\">Running query in &#x27;DuckDBPyConnection&#x27;</span>"
      ],
      "text/plain": [
       "Running query in 'DuckDBPyConnection'"
      ]
     },
     "metadata": {},
     "output_type": "display_data"
    },
    {
     "data": {
      "text/html": [
       "<table>\n",
       "    <thead>\n",
       "        <tr>\n",
       "            <th>id_sales_order</th>\n",
       "            <th>count(revision_number)</th>\n",
       "        </tr>\n",
       "    </thead>\n",
       "    <tbody>\n",
       "        <tr>\n",
       "            <td>43661</td>\n",
       "            <td>1</td>\n",
       "        </tr>\n",
       "        <tr>\n",
       "            <td>43662</td>\n",
       "            <td>1</td>\n",
       "        </tr>\n",
       "        <tr>\n",
       "            <td>43664</td>\n",
       "            <td>1</td>\n",
       "        </tr>\n",
       "        <tr>\n",
       "            <td>43667</td>\n",
       "            <td>1</td>\n",
       "        </tr>\n",
       "        <tr>\n",
       "            <td>43668</td>\n",
       "            <td>1</td>\n",
       "        </tr>\n",
       "        <tr>\n",
       "            <td>43672</td>\n",
       "            <td>1</td>\n",
       "        </tr>\n",
       "        <tr>\n",
       "            <td>43675</td>\n",
       "            <td>1</td>\n",
       "        </tr>\n",
       "        <tr>\n",
       "            <td>43678</td>\n",
       "            <td>1</td>\n",
       "        </tr>\n",
       "        <tr>\n",
       "            <td>43679</td>\n",
       "            <td>1</td>\n",
       "        </tr>\n",
       "        <tr>\n",
       "            <td>43680</td>\n",
       "            <td>1</td>\n",
       "        </tr>\n",
       "    </tbody>\n",
       "</table>\n",
       "<span style=\"font-style:italic;text-align:center;\">Truncated to <a href=\"https://jupysql.ploomber.io/en/latest/api/configuration.html#displaylimit\">displaylimit</a> of 10.</span>"
      ],
      "text/plain": [
       "+----------------+------------------------+\n",
       "| id_sales_order | count(revision_number) |\n",
       "+----------------+------------------------+\n",
       "|     43661      |           1            |\n",
       "|     43662      |           1            |\n",
       "|     43664      |           1            |\n",
       "|     43667      |           1            |\n",
       "|     43668      |           1            |\n",
       "|     43672      |           1            |\n",
       "|     43675      |           1            |\n",
       "|     43678      |           1            |\n",
       "|     43679      |           1            |\n",
       "|     43680      |           1            |\n",
       "+----------------+------------------------+\n",
       "Truncated to displaylimit of 10."
      ]
     },
     "execution_count": 9,
     "metadata": {},
     "output_type": "execute_result"
    }
   ],
   "source": [
    "%%sql\n",
    "select \n",
    "    id_sales_order,\n",
    "    count(revision_number)\n",
    "from stg_sales_order_header\n",
    "group by id_sales_order"
   ]
  },
  {
   "cell_type": "code",
   "execution_count": null,
   "metadata": {},
   "outputs": [],
   "source": []
  },
  {
   "cell_type": "code",
   "execution_count": null,
   "metadata": {},
   "outputs": [],
   "source": []
  },
  {
   "cell_type": "code",
   "execution_count": 24,
   "metadata": {},
   "outputs": [],
   "source": [
    "stg_conn.close()"
   ]
  },
  {
   "cell_type": "code",
   "execution_count": null,
   "metadata": {},
   "outputs": [],
   "source": []
  }
 ],
 "metadata": {
  "kernelspec": {
   "display_name": "Python 3",
   "language": "python",
   "name": "python3"
  },
  "language_info": {
   "codemirror_mode": {
    "name": "ipython",
    "version": 3
   },
   "file_extension": ".py",
   "mimetype": "text/x-python",
   "name": "python",
   "nbconvert_exporter": "python",
   "pygments_lexer": "ipython3",
   "version": "3.10.12"
  },
  "orig_nbformat": 4
 },
 "nbformat": 4,
 "nbformat_minor": 2
}
